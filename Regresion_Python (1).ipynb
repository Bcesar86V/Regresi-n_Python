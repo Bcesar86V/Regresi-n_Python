{
  "nbformat": 4,
  "nbformat_minor": 0,
  "metadata": {
    "colab": {
      "provenance": [],
      "collapsed_sections": []
    },
    "kernelspec": {
      "name": "python3",
      "display_name": "Python 3"
    },
    "language_info": {
      "name": "python"
    }
  },
  "cells": [
    {
      "cell_type": "code",
      "execution_count": 66,
      "metadata": {
        "id": "bzOS4uEmghEP"
      },
      "outputs": [],
      "source": [
        "import pandas as pd\n",
        "import numpy as np\n",
        "import matplotlib as mt\n",
        "import seaborn as sb\n",
        "import sklearn as sk"
      ]
    },
    {
      "cell_type": "code",
      "source": [
        "Df=pd.read_csv('CASEN_2017.csv', sep=';', encoding='latin-1', on_bad_lines='skip')"
      ],
      "metadata": {
        "colab": {
          "base_uri": "https://localhost:8080/"
        },
        "id": "wdn5RNlSxkuO",
        "outputId": "3290d8f3-9e17-44c0-c0da-c25c15533675"
      },
      "execution_count": 67,
      "outputs": [
        {
          "output_type": "stream",
          "name": "stderr",
          "text": [
            "/usr/local/lib/python3.7/dist-packages/IPython/core/interactiveshell.py:3326: DtypeWarning: Columns (25,26,51,60,62,77,93,96,97,99,109,117,136,137,138,151,152,153,154,156,157,158,159,160,161,162,163,164,165,167,168,169,170,172,173,174,175,176,177,178,179,180,181,182,183,185,186,187,188,190,191,192,193,194,195,196,197,198,199,200,201,202,203,204,205,206,207,208,209,212,235,240,252,255,257,272,273,274,275,276,278,279,280,281,282,283,285,286,289,290,291,292,293,294,295,305,307,310,323,336,337,353,357,365,404,405,412,470,506,509,510,512,514,517,518,522,528,529,531,532,533,534,536) have mixed types.Specify dtype option on import or set low_memory=False.\n",
            "  exec(code_obj, self.user_global_ns, self.user_ns)\n"
          ]
        }
      ]
    },
    {
      "cell_type": "code",
      "source": [
        "Data=Df[['y1', 'y2_dias', 'sexo', 'y2_hrs', 'edad', 'ch1']]"
      ],
      "metadata": {
        "id": "q5Yub_g5x3mv"
      },
      "execution_count": 68,
      "outputs": []
    },
    {
      "cell_type": "markdown",
      "source": [
        "### Observando parte de los datos"
      ],
      "metadata": {
        "id": "FtLdCbN7sSem"
      }
    },
    {
      "cell_type": "code",
      "source": [
        "Data.head()"
      ],
      "metadata": {
        "colab": {
          "base_uri": "https://localhost:8080/",
          "height": 206
        },
        "id": "7tsBNCxXzqq_",
        "outputId": "e92dc28a-15f1-473e-e37f-259fad1d09e6"
      },
      "execution_count": 69,
      "outputs": [
        {
          "output_type": "execute_result",
          "data": {
            "text/plain": [
              "       y1 y2_dias    sexo y2_hrs  edad  \\\n",
              "0     NaN     NaN   Mujer    NaN    56   \n",
              "1  200000      30   Mujer    216    21   \n",
              "2  270000      30  Hombre    192    24   \n",
              "3  300000      30  Hombre    192    28   \n",
              "4  320000      30  Hombre    192    26   \n",
              "\n",
              "                                            ch1  \n",
              "0  Patrón o empleador/ Trabajador Cuenta Propia  \n",
              "1                                    Asalariado  \n",
              "2                                    Asalariado  \n",
              "3                                    Asalariado  \n",
              "4                                    Asalariado  "
            ],
            "text/html": [
              "\n",
              "  <div id=\"df-b97ddb7f-0d9c-4659-afe4-35fc0ca1a64f\">\n",
              "    <div class=\"colab-df-container\">\n",
              "      <div>\n",
              "<style scoped>\n",
              "    .dataframe tbody tr th:only-of-type {\n",
              "        vertical-align: middle;\n",
              "    }\n",
              "\n",
              "    .dataframe tbody tr th {\n",
              "        vertical-align: top;\n",
              "    }\n",
              "\n",
              "    .dataframe thead th {\n",
              "        text-align: right;\n",
              "    }\n",
              "</style>\n",
              "<table border=\"1\" class=\"dataframe\">\n",
              "  <thead>\n",
              "    <tr style=\"text-align: right;\">\n",
              "      <th></th>\n",
              "      <th>y1</th>\n",
              "      <th>y2_dias</th>\n",
              "      <th>sexo</th>\n",
              "      <th>y2_hrs</th>\n",
              "      <th>edad</th>\n",
              "      <th>ch1</th>\n",
              "    </tr>\n",
              "  </thead>\n",
              "  <tbody>\n",
              "    <tr>\n",
              "      <th>0</th>\n",
              "      <td>NaN</td>\n",
              "      <td>NaN</td>\n",
              "      <td>Mujer</td>\n",
              "      <td>NaN</td>\n",
              "      <td>56</td>\n",
              "      <td>Patrón o empleador/ Trabajador Cuenta Propia</td>\n",
              "    </tr>\n",
              "    <tr>\n",
              "      <th>1</th>\n",
              "      <td>200000</td>\n",
              "      <td>30</td>\n",
              "      <td>Mujer</td>\n",
              "      <td>216</td>\n",
              "      <td>21</td>\n",
              "      <td>Asalariado</td>\n",
              "    </tr>\n",
              "    <tr>\n",
              "      <th>2</th>\n",
              "      <td>270000</td>\n",
              "      <td>30</td>\n",
              "      <td>Hombre</td>\n",
              "      <td>192</td>\n",
              "      <td>24</td>\n",
              "      <td>Asalariado</td>\n",
              "    </tr>\n",
              "    <tr>\n",
              "      <th>3</th>\n",
              "      <td>300000</td>\n",
              "      <td>30</td>\n",
              "      <td>Hombre</td>\n",
              "      <td>192</td>\n",
              "      <td>28</td>\n",
              "      <td>Asalariado</td>\n",
              "    </tr>\n",
              "    <tr>\n",
              "      <th>4</th>\n",
              "      <td>320000</td>\n",
              "      <td>30</td>\n",
              "      <td>Hombre</td>\n",
              "      <td>192</td>\n",
              "      <td>26</td>\n",
              "      <td>Asalariado</td>\n",
              "    </tr>\n",
              "  </tbody>\n",
              "</table>\n",
              "</div>\n",
              "      <button class=\"colab-df-convert\" onclick=\"convertToInteractive('df-b97ddb7f-0d9c-4659-afe4-35fc0ca1a64f')\"\n",
              "              title=\"Convert this dataframe to an interactive table.\"\n",
              "              style=\"display:none;\">\n",
              "        \n",
              "  <svg xmlns=\"http://www.w3.org/2000/svg\" height=\"24px\"viewBox=\"0 0 24 24\"\n",
              "       width=\"24px\">\n",
              "    <path d=\"M0 0h24v24H0V0z\" fill=\"none\"/>\n",
              "    <path d=\"M18.56 5.44l.94 2.06.94-2.06 2.06-.94-2.06-.94-.94-2.06-.94 2.06-2.06.94zm-11 1L8.5 8.5l.94-2.06 2.06-.94-2.06-.94L8.5 2.5l-.94 2.06-2.06.94zm10 10l.94 2.06.94-2.06 2.06-.94-2.06-.94-.94-2.06-.94 2.06-2.06.94z\"/><path d=\"M17.41 7.96l-1.37-1.37c-.4-.4-.92-.59-1.43-.59-.52 0-1.04.2-1.43.59L10.3 9.45l-7.72 7.72c-.78.78-.78 2.05 0 2.83L4 21.41c.39.39.9.59 1.41.59.51 0 1.02-.2 1.41-.59l7.78-7.78 2.81-2.81c.8-.78.8-2.07 0-2.86zM5.41 20L4 18.59l7.72-7.72 1.47 1.35L5.41 20z\"/>\n",
              "  </svg>\n",
              "      </button>\n",
              "      \n",
              "  <style>\n",
              "    .colab-df-container {\n",
              "      display:flex;\n",
              "      flex-wrap:wrap;\n",
              "      gap: 12px;\n",
              "    }\n",
              "\n",
              "    .colab-df-convert {\n",
              "      background-color: #E8F0FE;\n",
              "      border: none;\n",
              "      border-radius: 50%;\n",
              "      cursor: pointer;\n",
              "      display: none;\n",
              "      fill: #1967D2;\n",
              "      height: 32px;\n",
              "      padding: 0 0 0 0;\n",
              "      width: 32px;\n",
              "    }\n",
              "\n",
              "    .colab-df-convert:hover {\n",
              "      background-color: #E2EBFA;\n",
              "      box-shadow: 0px 1px 2px rgba(60, 64, 67, 0.3), 0px 1px 3px 1px rgba(60, 64, 67, 0.15);\n",
              "      fill: #174EA6;\n",
              "    }\n",
              "\n",
              "    [theme=dark] .colab-df-convert {\n",
              "      background-color: #3B4455;\n",
              "      fill: #D2E3FC;\n",
              "    }\n",
              "\n",
              "    [theme=dark] .colab-df-convert:hover {\n",
              "      background-color: #434B5C;\n",
              "      box-shadow: 0px 1px 3px 1px rgba(0, 0, 0, 0.15);\n",
              "      filter: drop-shadow(0px 1px 2px rgba(0, 0, 0, 0.3));\n",
              "      fill: #FFFFFF;\n",
              "    }\n",
              "  </style>\n",
              "\n",
              "      <script>\n",
              "        const buttonEl =\n",
              "          document.querySelector('#df-b97ddb7f-0d9c-4659-afe4-35fc0ca1a64f button.colab-df-convert');\n",
              "        buttonEl.style.display =\n",
              "          google.colab.kernel.accessAllowed ? 'block' : 'none';\n",
              "\n",
              "        async function convertToInteractive(key) {\n",
              "          const element = document.querySelector('#df-b97ddb7f-0d9c-4659-afe4-35fc0ca1a64f');\n",
              "          const dataTable =\n",
              "            await google.colab.kernel.invokeFunction('convertToInteractive',\n",
              "                                                     [key], {});\n",
              "          if (!dataTable) return;\n",
              "\n",
              "          const docLinkHtml = 'Like what you see? Visit the ' +\n",
              "            '<a target=\"_blank\" href=https://colab.research.google.com/notebooks/data_table.ipynb>data table notebook</a>'\n",
              "            + ' to learn more about interactive tables.';\n",
              "          element.innerHTML = '';\n",
              "          dataTable['output_type'] = 'display_data';\n",
              "          await google.colab.output.renderOutput(dataTable, element);\n",
              "          const docLink = document.createElement('div');\n",
              "          docLink.innerHTML = docLinkHtml;\n",
              "          element.appendChild(docLink);\n",
              "        }\n",
              "      </script>\n",
              "    </div>\n",
              "  </div>\n",
              "  "
            ]
          },
          "metadata": {},
          "execution_count": 69
        }
      ]
    },
    {
      "cell_type": "markdown",
      "source": [
        "### Ubicando cantidad de valores nulos"
      ],
      "metadata": {
        "id": "48tOYOe0sYX0"
      }
    },
    {
      "cell_type": "code",
      "source": [
        "Data.isna().sum()"
      ],
      "metadata": {
        "colab": {
          "base_uri": "https://localhost:8080/"
        },
        "id": "JnB_--sFy8Cw",
        "outputId": "e3fdcd48-896f-47d1-ce6b-b0ce5341d9a0"
      },
      "execution_count": 70,
      "outputs": [
        {
          "output_type": "execute_result",
          "data": {
            "text/plain": [
              "y1         49838\n",
              "y2_dias    49838\n",
              "sexo           0\n",
              "y2_hrs     49838\n",
              "edad           0\n",
              "ch1            0\n",
              "dtype: int64"
            ]
          },
          "metadata": {},
          "execution_count": 70
        }
      ]
    },
    {
      "cell_type": "markdown",
      "source": [
        "### Ubicando y eliminando duplicados"
      ],
      "metadata": {
        "id": "ZeGJy_sluMSU"
      }
    },
    {
      "cell_type": "code",
      "source": [
        "Data.duplicated().sum()\n",
        "Data=Data.drop_duplicates()"
      ],
      "metadata": {
        "id": "Y2-5Sd6HuJQh"
      },
      "execution_count": 71,
      "outputs": []
    },
    {
      "cell_type": "markdown",
      "source": [
        "### Reemplazando los valores nulos"
      ],
      "metadata": {
        "id": "mUSiM-D6sbk3"
      }
    },
    {
      "cell_type": "code",
      "source": [
        "Data[['y1','y2_dias','y2_hrs']]=Data[['y1','y2_dias','y2_hrs']].fillna(0)"
      ],
      "metadata": {
        "id": "uN_IPzvty-oL"
      },
      "execution_count": 72,
      "outputs": []
    },
    {
      "cell_type": "markdown",
      "source": [
        "### Transformando la variable sexo en dummie"
      ],
      "metadata": {
        "id": "Pt6fBfU9sfA5"
      }
    },
    {
      "cell_type": "code",
      "source": [
        "dummies = pd.get_dummies(Data['sexo'], drop_first = True)"
      ],
      "metadata": {
        "id": "upcrbRczzmJp"
      },
      "execution_count": 73,
      "outputs": []
    },
    {
      "cell_type": "code",
      "source": [
        "Data = pd.concat([Data, dummies], axis = 1) \n",
        "Data = Data.drop(columns=['sexo' ])"
      ],
      "metadata": {
        "id": "usU-5IuN2b9b"
      },
      "execution_count": 74,
      "outputs": []
    },
    {
      "cell_type": "code",
      "source": [
        "Data[['y1', 'y2_hrs', 'y2_dias', 'edad']]=Data[['y1', 'y2_hrs', 'y2_dias', 'edad']].apply(pd.to_numeric, errors='coerce')"
      ],
      "metadata": {
        "id": "YC750QQb2vJQ"
      },
      "execution_count": 75,
      "outputs": []
    },
    {
      "cell_type": "markdown",
      "source": [
        "### Elaborando boxplot para visualizar valores atipicos"
      ],
      "metadata": {
        "id": "f9XSn3Xqsk0U"
      }
    },
    {
      "cell_type": "code",
      "source": [
        "Data.boxplot(column=['y2_hrs', 'edad', 'y2_dias'], figsize=(8,6), grid=False)"
      ],
      "metadata": {
        "colab": {
          "base_uri": "https://localhost:8080/",
          "height": 451
        },
        "id": "aTvtDDVU3FvH",
        "outputId": "47aba10b-7e47-4dd9-a47c-36748438a3ed"
      },
      "execution_count": 76,
      "outputs": [
        {
          "output_type": "stream",
          "name": "stderr",
          "text": [
            "/usr/local/lib/python3.7/dist-packages/matplotlib/cbook/__init__.py:1376: VisibleDeprecationWarning: Creating an ndarray from ragged nested sequences (which is a list-or-tuple of lists-or-tuples-or ndarrays with different lengths or shapes) is deprecated. If you meant to do this, you must specify 'dtype=object' when creating the ndarray.\n",
            "  X = np.atleast_1d(X.T if isinstance(X, np.ndarray) else np.asarray(X))\n"
          ]
        },
        {
          "output_type": "execute_result",
          "data": {
            "text/plain": [
              "<matplotlib.axes._subplots.AxesSubplot at 0x7f40c88757d0>"
            ]
          },
          "metadata": {},
          "execution_count": 76
        },
        {
          "output_type": "display_data",
          "data": {
            "text/plain": [
              "<Figure size 576x432 with 1 Axes>"
            ],
            "image/png": "[encoded data removed]"
          },
          "metadata": {
            "needs_background": "light"
          }
        }
      ]
    },
    {
      "cell_type": "code",
      "source": [
        "Data.boxplot(column=['y1'], figsize=(8,6), grid=False)"
      ],
      "metadata": {
        "colab": {
          "base_uri": "https://localhost:8080/",
          "height": 403
        },
        "id": "hX36ZO0g47wF",
        "outputId": "9fe4f8fb-0560-4c5a-d158-ab1916e1a4a6"
      },
      "execution_count": 77,
      "outputs": [
        {
          "output_type": "execute_result",
          "data": {
            "text/plain": [
              "<matplotlib.axes._subplots.AxesSubplot at 0x7f40c86c3310>"
            ]
          },
          "metadata": {},
          "execution_count": 77
        },
        {
          "output_type": "display_data",
          "data": {
            "text/plain": [
              "<Figure size 576x432 with 1 Axes>"
            ],
            "image/png": "[encoded data removed]"
          },
          "metadata": {
            "needs_background": "light"
          }
        }
      ]
    },
    {
      "cell_type": "markdown",
      "source": [
        "### Tratando y transformando los valores atipicos que pudiesen desajustar el modelo"
      ],
      "metadata": {
        "id": "NavKsXj4so4j"
      }
    },
    {
      "cell_type": "code",
      "source": [
        "P90_y2=Data[['y2_hrs']].quantile(0.9)\n",
        "P90_y2"
      ],
      "metadata": {
        "colab": {
          "base_uri": "https://localhost:8080/"
        },
        "id": "nHaqT5U13-CC",
        "outputId": "ecef74c6-3fa4-49f4-ae34-2ec2a47a072b"
      },
      "execution_count": 105,
      "outputs": [
        {
          "output_type": "execute_result",
          "data": {
            "text/plain": [
              "y2_hrs    180.0\n",
              "Name: 0.9, dtype: float64"
            ]
          },
          "metadata": {},
          "execution_count": 105
        }
      ]
    },
    {
      "cell_type": "code",
      "source": [
        "Data[Data['y2_hrs']>180.0]=180.0"
      ],
      "metadata": {
        "id": "iQPbGTdp4gWm"
      },
      "execution_count": 101,
      "outputs": []
    },
    {
      "cell_type": "code",
      "source": [
        "P90_edad=Data[['edad']].quantile(0.9)\n",
        "P90_edad"
      ],
      "metadata": {
        "colab": {
          "base_uri": "https://localhost:8080/"
        },
        "id": "ZQfrvSzu4rdR",
        "outputId": "c7ca9738-7ac0-42d3-c425-3f3c89462736"
      },
      "execution_count": 99,
      "outputs": [
        {
          "output_type": "execute_result",
          "data": {
            "text/plain": [
              "edad    94.2\n",
              "Name: 0.9, dtype: float64"
            ]
          },
          "metadata": {},
          "execution_count": 99
        }
      ]
    },
    {
      "cell_type": "code",
      "source": [
        "Data[Data['edad']>94.2]=94.2"
      ],
      "metadata": {
        "id": "g86sLUUB4y57"
      },
      "execution_count": 102,
      "outputs": []
    },
    {
      "cell_type": "code",
      "source": [
        "P10_dias=Data[['y2_dias']].quantile(0.1)\n",
        "P10_dias"
      ],
      "metadata": {
        "colab": {
          "base_uri": "https://localhost:8080/"
        },
        "id": "Y7rdpD0e6jbW",
        "outputId": "3f1c9f54-c6f5-41a4-e578-230164bdc22c"
      },
      "execution_count": 103,
      "outputs": [
        {
          "output_type": "execute_result",
          "data": {
            "text/plain": [
              "y2_dias    14.0\n",
              "Name: 0.1, dtype: float64"
            ]
          },
          "metadata": {},
          "execution_count": 103
        }
      ]
    },
    {
      "cell_type": "code",
      "source": [
        "Data[Data['y2_dias']<14.0]=14.0"
      ],
      "metadata": {
        "id": "vtOoTTguu1HH"
      },
      "execution_count": 104,
      "outputs": []
    },
    {
      "cell_type": "markdown",
      "source": [
        "### Un poco de Estadistica descriptiva"
      ],
      "metadata": {
        "id": "nRJu1I0zsubQ"
      }
    },
    {
      "cell_type": "code",
      "source": [
        "Data.describe()"
      ],
      "metadata": {
        "colab": {
          "base_uri": "https://localhost:8080/",
          "height": 300
        },
        "id": "97zGV_NE5JiT",
        "outputId": "109b15c4-6e05-4c3f-b004-0dfceb14d0e9"
      },
      "execution_count": 83,
      "outputs": [
        {
          "output_type": "execute_result",
          "data": {
            "text/plain": [
              "                 y1       y2_dias        y2_hrs          edad         Mujer\n",
              "count  1.801200e+04  18353.000000  17955.000000  18921.000000  18921.000000\n",
              "mean   3.751076e+05     35.375873    136.437171     51.604270     17.981787\n",
              "std    4.622141e+05     29.373959     48.699312     24.093496     36.549879\n",
              "min    0.000000e+00      0.000000      0.000000      0.000000      0.000000\n",
              "25%    9.000000e+04     20.000000     94.200000     32.000000      0.000000\n",
              "50%    2.800000e+05     24.000000    160.000000     46.000000      1.000000\n",
              "75%    4.800000e+05     30.000000    180.000000     63.000000      1.000000\n",
              "max    1.200000e+07     94.200000    187.000000     94.200000     94.200000"
            ],
            "text/html": [
              "\n",
              "  <div id=\"df-9a6b9ee9-a754-4758-b534-58128c76fa5e\">\n",
              "    <div class=\"colab-df-container\">\n",
              "      <div>\n",
              "<style scoped>\n",
              "    .dataframe tbody tr th:only-of-type {\n",
              "        vertical-align: middle;\n",
              "    }\n",
              "\n",
              "    .dataframe tbody tr th {\n",
              "        vertical-align: top;\n",
              "    }\n",
              "\n",
              "    .dataframe thead th {\n",
              "        text-align: right;\n",
              "    }\n",
              "</style>\n",
              "<table border=\"1\" class=\"dataframe\">\n",
              "  <thead>\n",
              "    <tr style=\"text-align: right;\">\n",
              "      <th></th>\n",
              "      <th>y1</th>\n",
              "      <th>y2_dias</th>\n",
              "      <th>y2_hrs</th>\n",
              "      <th>edad</th>\n",
              "      <th>Mujer</th>\n",
              "    </tr>\n",
              "  </thead>\n",
              "  <tbody>\n",
              "    <tr>\n",
              "      <th>count</th>\n",
              "      <td>1.801200e+04</td>\n",
              "      <td>18353.000000</td>\n",
              "      <td>17955.000000</td>\n",
              "      <td>18921.000000</td>\n",
              "      <td>18921.000000</td>\n",
              "    </tr>\n",
              "    <tr>\n",
              "      <th>mean</th>\n",
              "      <td>3.751076e+05</td>\n",
              "      <td>35.375873</td>\n",
              "      <td>136.437171</td>\n",
              "      <td>51.604270</td>\n",
              "      <td>17.981787</td>\n",
              "    </tr>\n",
              "    <tr>\n",
              "      <th>std</th>\n",
              "      <td>4.622141e+05</td>\n",
              "      <td>29.373959</td>\n",
              "      <td>48.699312</td>\n",
              "      <td>24.093496</td>\n",
              "      <td>36.549879</td>\n",
              "    </tr>\n",
              "    <tr>\n",
              "      <th>min</th>\n",
              "      <td>0.000000e+00</td>\n",
              "      <td>0.000000</td>\n",
              "      <td>0.000000</td>\n",
              "      <td>0.000000</td>\n",
              "      <td>0.000000</td>\n",
              "    </tr>\n",
              "    <tr>\n",
              "      <th>25%</th>\n",
              "      <td>9.000000e+04</td>\n",
              "      <td>20.000000</td>\n",
              "      <td>94.200000</td>\n",
              "      <td>32.000000</td>\n",
              "      <td>0.000000</td>\n",
              "    </tr>\n",
              "    <tr>\n",
              "      <th>50%</th>\n",
              "      <td>2.800000e+05</td>\n",
              "      <td>24.000000</td>\n",
              "      <td>160.000000</td>\n",
              "      <td>46.000000</td>\n",
              "      <td>1.000000</td>\n",
              "    </tr>\n",
              "    <tr>\n",
              "      <th>75%</th>\n",
              "      <td>4.800000e+05</td>\n",
              "      <td>30.000000</td>\n",
              "      <td>180.000000</td>\n",
              "      <td>63.000000</td>\n",
              "      <td>1.000000</td>\n",
              "    </tr>\n",
              "    <tr>\n",
              "      <th>max</th>\n",
              "      <td>1.200000e+07</td>\n",
              "      <td>94.200000</td>\n",
              "      <td>187.000000</td>\n",
              "      <td>94.200000</td>\n",
              "      <td>94.200000</td>\n",
              "    </tr>\n",
              "  </tbody>\n",
              "</table>\n",
              "</div>\n",
              "      <button class=\"colab-df-convert\" onclick=\"convertToInteractive('df-9a6b9ee9-a754-4758-b534-58128c76fa5e')\"\n",
              "              title=\"Convert this dataframe to an interactive table.\"\n",
              "              style=\"display:none;\">\n",
              "        \n",
              "  <svg xmlns=\"http://www.w3.org/2000/svg\" height=\"24px\"viewBox=\"0 0 24 24\"\n",
              "       width=\"24px\">\n",
              "    <path d=\"M0 0h24v24H0V0z\" fill=\"none\"/>\n",
              "    <path d=\"M18.56 5.44l.94 2.06.94-2.06 2.06-.94-2.06-.94-.94-2.06-.94 2.06-2.06.94zm-11 1L8.5 8.5l.94-2.06 2.06-.94-2.06-.94L8.5 2.5l-.94 2.06-2.06.94zm10 10l.94 2.06.94-2.06 2.06-.94-2.06-.94-.94-2.06-.94 2.06-2.06.94z\"/><path d=\"M17.41 7.96l-1.37-1.37c-.4-.4-.92-.59-1.43-.59-.52 0-1.04.2-1.43.59L10.3 9.45l-7.72 7.72c-.78.78-.78 2.05 0 2.83L4 21.41c.39.39.9.59 1.41.59.51 0 1.02-.2 1.41-.59l7.78-7.78 2.81-2.81c.8-.78.8-2.07 0-2.86zM5.41 20L4 18.59l7.72-7.72 1.47 1.35L5.41 20z\"/>\n",
              "  </svg>\n",
              "      </button>\n",
              "      \n",
              "  <style>\n",
              "    .colab-df-container {\n",
              "      display:flex;\n",
              "      flex-wrap:wrap;\n",
              "      gap: 12px;\n",
              "    }\n",
              "\n",
              "    .colab-df-convert {\n",
              "      background-color: #E8F0FE;\n",
              "      border: none;\n",
              "      border-radius: 50%;\n",
              "      cursor: pointer;\n",
              "      display: none;\n",
              "      fill: #1967D2;\n",
              "      height: 32px;\n",
              "      padding: 0 0 0 0;\n",
              "      width: 32px;\n",
              "    }\n",
              "\n",
              "    .colab-df-convert:hover {\n",
              "      background-color: #E2EBFA;\n",
              "      box-shadow: 0px 1px 2px rgba(60, 64, 67, 0.3), 0px 1px 3px 1px rgba(60, 64, 67, 0.15);\n",
              "      fill: #174EA6;\n",
              "    }\n",
              "\n",
              "    [theme=dark] .colab-df-convert {\n",
              "      background-color: #3B4455;\n",
              "      fill: #D2E3FC;\n",
              "    }\n",
              "\n",
              "    [theme=dark] .colab-df-convert:hover {\n",
              "      background-color: #434B5C;\n",
              "      box-shadow: 0px 1px 3px 1px rgba(0, 0, 0, 0.15);\n",
              "      filter: drop-shadow(0px 1px 2px rgba(0, 0, 0, 0.3));\n",
              "      fill: #FFFFFF;\n",
              "    }\n",
              "  </style>\n",
              "\n",
              "      <script>\n",
              "        const buttonEl =\n",
              "          document.querySelector('#df-9a6b9ee9-a754-4758-b534-58128c76fa5e button.colab-df-convert');\n",
              "        buttonEl.style.display =\n",
              "          google.colab.kernel.accessAllowed ? 'block' : 'none';\n",
              "\n",
              "        async function convertToInteractive(key) {\n",
              "          const element = document.querySelector('#df-9a6b9ee9-a754-4758-b534-58128c76fa5e');\n",
              "          const dataTable =\n",
              "            await google.colab.kernel.invokeFunction('convertToInteractive',\n",
              "                                                     [key], {});\n",
              "          if (!dataTable) return;\n",
              "\n",
              "          const docLinkHtml = 'Like what you see? Visit the ' +\n",
              "            '<a target=\"_blank\" href=https://colab.research.google.com/notebooks/data_table.ipynb>data table notebook</a>'\n",
              "            + ' to learn more about interactive tables.';\n",
              "          element.innerHTML = '';\n",
              "          dataTable['output_type'] = 'display_data';\n",
              "          await google.colab.output.renderOutput(dataTable, element);\n",
              "          const docLink = document.createElement('div');\n",
              "          docLink.innerHTML = docLinkHtml;\n",
              "          element.appendChild(docLink);\n",
              "        }\n",
              "      </script>\n",
              "    </div>\n",
              "  </div>\n",
              "  "
            ]
          },
          "metadata": {},
          "execution_count": 83
        }
      ]
    },
    {
      "cell_type": "code",
      "source": [
        "Data = Data.dropna()"
      ],
      "metadata": {
        "id": "rtZ92s21ouP5"
      },
      "execution_count": 106,
      "outputs": []
    },
    {
      "cell_type": "markdown",
      "source": [
        "### Seleccionando variables, particionando el conjunto para crear los modelos de regresion simple y multiple"
      ],
      "metadata": {
        "id": "8YHMIk_1sy1f"
      }
    },
    {
      "cell_type": "code",
      "source": [
        "X=Data['y2_hrs'] \n",
        "Y=Data['y1']"
      ],
      "metadata": {
        "id": "IR9sF82v7JO2"
      },
      "execution_count": 107,
      "outputs": []
    },
    {
      "cell_type": "code",
      "source": [
        "X = X.to_numpy().reshape((-1, 1))"
      ],
      "metadata": {
        "id": "tB15eTu1puyw"
      },
      "execution_count": 108,
      "outputs": []
    },
    {
      "cell_type": "code",
      "source": [
        "from sklearn.model_selection import train_test_split \n",
        "X_train, X_test, Y_train, Y_test= train_test_split(X,Y,test_size=0.15, random_state=36) "
      ],
      "metadata": {
        "id": "nJD-oF_Z8Ri9"
      },
      "execution_count": 109,
      "outputs": []
    },
    {
      "cell_type": "code",
      "source": [
        "from sklearn.linear_model import LinearRegression \n",
        "modelo=LinearRegression()"
      ],
      "metadata": {
        "id": "gznIB7mh-dmv"
      },
      "execution_count": 110,
      "outputs": []
    },
    {
      "cell_type": "code",
      "source": [
        "modelo.fit(X_train, Y_train) \n",
        "r_sq=modelo.score(X_train, Y_train) \n",
        "print(\"coeficiente de determinacion:{}\".format(r_sq)) \n",
        "print(\"interceptor:{}\".format(modelo.intercept_)) \n",
        "print(\"inclinacion:{}\".format(modelo.coef_))"
      ],
      "metadata": {
        "colab": {
          "base_uri": "https://localhost:8080/"
        },
        "id": "7spCvrpg8c15",
        "outputId": "74326895-a894-4971-c721-fcaa29256966"
      },
      "execution_count": 111,
      "outputs": [
        {
          "output_type": "stream",
          "name": "stdout",
          "text": [
            "coeficiente de determinacion:0.1602085512666237\n",
            "interceptor:-98153.9878404797\n",
            "inclinacion:[3415.92626821]\n"
          ]
        }
      ]
    },
    {
      "cell_type": "markdown",
      "source": [
        "### Solo 16% del ingreso es explicado por las horas trabajadas. Es necesario considerar mas variables para obtener un mejor ajuste del modelo lineal."
      ],
      "metadata": {
        "id": "tfUJqmaTxBpk"
      }
    },
    {
      "cell_type": "code",
      "source": [
        "### Realizando predicciones del modelo lineal simple\n",
        "y_pred = modelo.intercept_ + modelo.coef_ * X_test \n",
        "print(\"respuesta de la prediccion:\\n {}\".format(y_pred))"
      ],
      "metadata": {
        "id": "8MZ47tOJxLxt"
      },
      "execution_count": null,
      "outputs": []
    },
    {
      "cell_type": "markdown",
      "source": [
        "### Evaluando multicolinealidad entre las variables explicativas"
      ],
      "metadata": {
        "id": "-94b8gopwr5G"
      }
    },
    {
      "cell_type": "code",
      "source": [
        "from statsmodels.stats.outliers_influence import variance_inflation_factor\n",
        "X2 = Data[['y2_hrs', 'y2_dias', 'edad']]"
      ],
      "metadata": {
        "id": "g35uwB-MwIsq"
      },
      "execution_count": 130,
      "outputs": []
    },
    {
      "cell_type": "code",
      "source": [
        "vif_Data = pd.DataFrame()\n",
        "vif_Data[\"factores\"] = X2.columns\n",
        "  \n",
        "# calculando VIF\n",
        "vif_Data[\"VIF\"] = [variance_inflation_factor(X2.values, i)\n",
        "                          for i in range(len(X2.columns))]\n",
        "  \n",
        "print(vif_Data)"
      ],
      "metadata": {
        "colab": {
          "base_uri": "https://localhost:8080/"
        },
        "id": "sAo-f6aSwUBW",
        "outputId": "bc393cb3-083d-4d00-a67b-ed970146e71d"
      },
      "execution_count": 132,
      "outputs": [
        {
          "output_type": "stream",
          "name": "stdout",
          "text": [
            "  factores        VIF\n",
            "0   y2_hrs   4.004604\n",
            "1  y2_dias  13.047521\n",
            "2     edad  21.167792\n"
          ]
        }
      ]
    },
    {
      "cell_type": "markdown",
      "source": [
        "### las variables y2_dias y edad ocasionan graves problemas de multicolinealidad al modelo, por ende se eliminaran del mismo."
      ],
      "metadata": {
        "id": "WCYwCwaqwxXx"
      }
    },
    {
      "cell_type": "code",
      "source": [
        "X2 = Data[['y2_hrs',  'Mujer']] \n",
        "Y2 = Data['y1']"
      ],
      "metadata": {
        "id": "8JDsVFzLqUJ1"
      },
      "execution_count": 134,
      "outputs": []
    },
    {
      "cell_type": "code",
      "source": [
        "X2_train, X2_test, Y2_train, Y2_test = train_test_split(X2, Y2, test_size=0.2, random_state=0)"
      ],
      "metadata": {
        "id": "UX2FDynkq9nb"
      },
      "execution_count": 135,
      "outputs": []
    },
    {
      "cell_type": "code",
      "source": [
        "multiple=LinearRegression()"
      ],
      "metadata": {
        "id": "e7ZudDoNrN3u"
      },
      "execution_count": 136,
      "outputs": []
    },
    {
      "cell_type": "code",
      "source": [
        "multiple.fit(X2_train, Y2_train)"
      ],
      "metadata": {
        "colab": {
          "base_uri": "https://localhost:8080/"
        },
        "id": "sy0qDfgLrWwH",
        "outputId": "1f140b4b-e727-4a5d-bf25-095ecf32ea64"
      },
      "execution_count": 137,
      "outputs": [
        {
          "output_type": "execute_result",
          "data": {
            "text/plain": [
              "LinearRegression()"
            ]
          },
          "metadata": {},
          "execution_count": 137
        }
      ]
    },
    {
      "cell_type": "code",
      "source": [
        "r2 = multiple.score(X2_train, Y2_train)\n",
        "print(\"coeficiente de determinación : {} \".format(r2))"
      ],
      "metadata": {
        "colab": {
          "base_uri": "https://localhost:8080/"
        },
        "id": "75aOvASmriNC",
        "outputId": "0bb7dc03-dca5-44ee-fe2a-8270eb16f03a"
      },
      "execution_count": 138,
      "outputs": [
        {
          "output_type": "stream",
          "name": "stdout",
          "text": [
            "coeficiente de determinación : 0.23759936170494078 \n"
          ]
        }
      ]
    },
    {
      "cell_type": "markdown",
      "source": [
        "### Aproximadamente un 25% de los ingresos es explicado por los dias, horas, la edad y genero de los trabajadores. Es posible que se requieran estudiar mas variables o que se pudiese probar con un modelo con mejor ajuste a los datos."
      ],
      "metadata": {
        "id": "cS94TTrdtK0N"
      }
    },
    {
      "cell_type": "code",
      "source": [
        "print(\"interceptor: {} \".format(multiple.intercept_))\n",
        "print(\"inclinacion: {} \".format(multiple.coef_))"
      ],
      "metadata": {
        "colab": {
          "base_uri": "https://localhost:8080/"
        },
        "id": "d2boQMuRrokv",
        "outputId": "9c320290-ddc8-4183-c0db-2ad18ec0cf70"
      },
      "execution_count": 139,
      "outputs": [
        {
          "output_type": "stream",
          "name": "stdout",
          "text": [
            "interceptor: 131527.6931384502 \n",
            "inclinacion: [ 2300.3609349  -3772.13149761] \n"
          ]
        }
      ]
    },
    {
      "cell_type": "code",
      "source": [
        "y2_pred = multiple.intercept_ + multiple.coef_ * X2_test\n",
        "print(\"respuesta de la prediccion:\\n {}\".format(y2_pred))"
      ],
      "metadata": {
        "colab": {
          "base_uri": "https://localhost:8080/"
        },
        "id": "k5hMHp3Rrxuq",
        "outputId": "0f0ef76e-5887-4fde-faa2-f0cc0553792b"
      },
      "execution_count": 140,
      "outputs": [
        {
          "output_type": "stream",
          "name": "stdout",
          "text": [
            "respuesta de la prediccion:\n",
            "               y2_hrs          Mujer\n",
            "21881  430574.614675  131527.693138\n",
            "148    163732.746227   78717.852172\n",
            "47377  453578.224024  127755.561641\n",
            "188    163732.746227   78717.852172\n",
            "12685  517988.330201  131527.693138\n",
            "...              ...            ...\n",
            "30572  348221.693206 -223807.093937\n",
            "44952  545592.661420  127755.561641\n",
            "40989  163732.746227   78717.852172\n",
            "72020  361563.786628  127755.561641\n",
            "16367  269549.349232  131527.693138\n",
            "\n",
            "[3411 rows x 2 columns]\n"
          ]
        }
      ]
    }
  ]
}